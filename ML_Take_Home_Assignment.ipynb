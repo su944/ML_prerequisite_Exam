{
  "cells": [
    {
      "cell_type": "code",
      "execution_count": null,
      "id": "b96a6ae6",
      "metadata": {
        "id": "b96a6ae6"
      },
      "outputs": [],
      "source": [
        "import numpy as np\n",
        "import timeit \n",
        "import matplotlib.pyplot as plt\n",
        "import time\n",
        "import pandas as pd"
      ]
    },
    {
      "cell_type": "markdown",
      "id": "637f4d1c",
      "metadata": {
        "id": "637f4d1c"
      },
      "source": [
        "# Q1"
      ]
    },
    {
      "cell_type": "markdown",
      "id": "c27c391f",
      "metadata": {
        "id": "c27c391f"
      },
      "source": [
        "Matrix A = m\\*k\n",
        "Matrix B = k\\*n\n",
        "\n",
        "On multiplying matrix A and B we will get an matrix C of dimension m*n\n",
        "\n",
        "for the resultant matrix C, the element at position (i,j) will be obtained by multipling corresponding elements of ith row of mat A and the jth column of the Matrix B.\n",
        "\n",
        "no of multiplication operations to obtain each element in matrix C = k\n",
        "\n",
        "no fo addition operations to compute each element in matrix C  = k-1 \n",
        "\n",
        "There are m*n elements in  resultant matrix. \n",
        "\n",
        "Total no of addition operations in matrix multiplication of A and B = m\\*n\\*(k-1)\n",
        "\\n\n",
        "Total no of multiplication operations  = m\\*n\\*k\n"
      ]
    },
    {
      "cell_type": "markdown",
      "id": "78daabf7",
      "metadata": {
        "id": "78daabf7"
      },
      "source": [
        "# Q2"
      ]
    },
    {
      "cell_type": "code",
      "execution_count": null,
      "id": "241aad30",
      "metadata": {
        "scrolled": true,
        "id": "241aad30"
      },
      "outputs": [],
      "source": [
        "import time \n",
        "import numpy as np\n",
        "\n",
        "def matrix_mul(A,B,m1,n1,m2,n2):\n",
        "\n",
        "    C = [[0]*n2 for  i in range(m1)] \n",
        "    for i in range(m1):\n",
        "        for j in range(n2):\n",
        "            for k in range(n1):\n",
        "                C[i][j] += A[i][k]*B[k][j] \n",
        "    return C"
      ]
    },
    {
      "cell_type": "code",
      "execution_count": null,
      "id": "cff0272d",
      "metadata": {
        "id": "cff0272d"
      },
      "outputs": [],
      "source": [
        "\n",
        "def time_(A,B,m1,n1,m2,n2):\n",
        "        number = 10000\n",
        "        t_prog = []\n",
        "        t_numpy = []\n",
        "        for i in range(number):\n",
        "            start = time.time()\n",
        "            C = np.array(matrix_mul(A,B,m1,n1,m2,n2))\n",
        "            end = time.time()\n",
        "            t_prog.append((end-start)*1000)\n",
        "\n",
        "            A,B = np.array(A),np.array(B)\n",
        "            start = time.time()\n",
        "            C = np.dot(A,B)\n",
        "            end = time.time()\n",
        "            t_numpy.append((end-start)*1000)\n",
        "\n",
        "        t_prog,t_numpy = np.array(t_prog),np.array(t_numpy)\n",
        "\n",
        "        mean_p,mean_n,std_p,std_n = np.mean(t_prog),np.mean(t_numpy),np.std(t_prog),np.std(t_numpy)\n",
        "        return mean_p,mean_n,std_p,std_n\n"
      ]
    },
    {
      "cell_type": "code",
      "execution_count": null,
      "id": "38602d3d",
      "metadata": {
        "colab": {
          "base_uri": "https://localhost:8080/"
        },
        "id": "38602d3d",
        "outputId": "668fda0c-2160-4e4d-d3cd-6e03e6c9eae3"
      },
      "outputs": [
        {
          "output_type": "stream",
          "name": "stdout",
          "text": [
            "\n",
            "Matrix multiplication using numppy\n",
            "[[29, 54, 48], [111, 51, 120], [27, 117, 72]]\n",
            "\n",
            "Matrix multiplication using numppy\n",
            "[[ 29  54  48]\n",
            " [111  51 120]\n",
            " [ 27 117  72]]\n",
            "\n",
            "Checking both anwer abtained by the program\n",
            "[[ True  True  True]\n",
            " [ True  True  True]\n",
            " [ True  True  True]]\n"
          ]
        }
      ],
      "source": [
        "\n",
        "A = list(np.random.randint(0,10,(3,2)))\n",
        "B  = list(np.random.randint(0,20,(2,3)))\n",
        "t_prog = []\n",
        "t_numpy = []\n",
        "m1,n1 = len(A),len(A[0])\n",
        "m2,n2 = len(B),len(B[0])\n",
        "C = matrix_mul(A,B,m1,n1,m2,n2)\n",
        "print()\n",
        "print(\"Matrix multiplication using numppy\")\n",
        "print(C)\n",
        "print()\n",
        "print(\"Matrix multiplication using numppy\")\n",
        "A = np.array(A)\n",
        "B = np.array(B)\n",
        "C1 = np.dot(A,B)\n",
        "print(C1)\n",
        "\n",
        "print()\n",
        "print(\"Checking both anwer abtained by the program\")\n",
        "print(C == C1)\n"
      ]
    },
    {
      "cell_type": "code",
      "execution_count": 51,
      "id": "ca9aabd1",
      "metadata": {
        "colab": {
          "base_uri": "https://localhost:8080/"
        },
        "id": "ca9aabd1",
        "outputId": "5e19c85e-9dbc-4e3a-d5d2-21637e5498a2"
      },
      "outputs": [
        {
          "output_type": "stream",
          "name": "stdout",
          "text": [
            "mean and std of written program 1.5077740669250488 ms 0.5943042157660461 ms\n",
            "mean and std of inbuilt numpy 0.024957275390625 ms 0.121225080549667 ms\n"
          ]
        }
      ],
      "source": [
        "import time\n",
        "A = list(np.random.randint(0,100,(100,3)))\n",
        "B  = list(np.random.randint(0,200,(3,5)))\n",
        "t_prog = []\n",
        "t_numpy = []\n",
        "m1,n1 = len(A),len(A[0])\n",
        "m2,n2 = len(B),len(B[0])\n",
        "mean_p,mean_n,std_p,std_n =  time_(A,B,m1,n1,m2,n2)\n",
        "print(\"mean and std of written program\",mean_p,\"ms\",std_p,\"ms\")\n",
        "print(\"mean and std of inbuilt numpy\",mean_n,\"ms\",std_n,\"ms\")\n"
      ]
    },
    {
      "cell_type": "markdown",
      "source": [
        " From the above we can observe that the numpy runs faster than the written program. there might be some reasons why numpy is faster.\n",
        "\n",
        "\n",
        "\n",
        "1.   The numpy module was build using c/c++ which are faster than the python. so numpy is faster.\n",
        "2.   The accessing in numpy arrays is easy compared to python becausethe memory allocation of the numpy arrays are continous while in python lists the memory allocation is discrete.\n",
        "\n",
        "\n",
        "\n"
      ],
      "metadata": {
        "id": "BOWJMzlFtvSV"
      },
      "id": "BOWJMzlFtvSV"
    },
    {
      "cell_type": "markdown",
      "source": [],
      "metadata": {
        "id": "HHv8MmJMtUSd"
      },
      "id": "HHv8MmJMtUSd"
    },
    {
      "cell_type": "markdown",
      "id": "a669b7a3",
      "metadata": {
        "id": "a669b7a3"
      },
      "source": [
        "# Q3\n",
        "\n"
      ]
    },
    {
      "cell_type": "markdown",
      "id": "edc626fe",
      "metadata": {
        "id": "edc626fe"
      },
      "source": [
        "  median of an array \n",
        "\n",
        "suppose the array has n elements\n",
        "\n",
        "the median of the even length array  =  average value of n/2th maximum and (n/2 +1)th maximum\n",
        "median of an odd length array  = value of the ((n+1)/2)th maximum\n",
        "\n",
        "\n",
        "one iteration of array  = n operations\n",
        "\n",
        "operations required to calculated the medain in array of even length = (n^2)/4) + ((n/2) +1)^2 == O(n^2)\n",
        "\n",
        "operations req to find the median in an array of odd length = ((n+1)/2)^2 == O(n^2)\n",
        "\n",
        "Time complexity to find the medain of an array  = O(n^2)\n",
        "\n",
        "\n",
        "OPTIMSED METHODS TO FIND THE MEDIAN :\n",
        "\n",
        " 1) Sort the elements in the array and find the median of an array. Time Complexity  = O(nlog(n))).\n",
        " 2) if the range of values in the array are small. we can use counting sort for sorting which has the time complexity of O(n). Time complexity  = O(n) \n",
        "\n",
        "\n",
        " \n",
        "\n",
        "\n",
        " \n"
      ]
    },
    {
      "cell_type": "code",
      "execution_count": null,
      "id": "9c8cf664",
      "metadata": {
        "scrolled": true,
        "id": "9c8cf664"
      },
      "outputs": [],
      "source": [
        "def find_median(A):\n",
        "    n = len(A)\n",
        "    freq = {}\n",
        "    for i in range(n//2 +1):\n",
        "        max_index = -1\n",
        "        for j in range(n):\n",
        "            freq.setdefault(j,-1)\n",
        "            if freq[j] == -1 : \n",
        "                if max_index == -1 :\n",
        "                    max_index = j\n",
        "\n",
        "                if A[j] >= A[max_index] : \n",
        "                    max_index = j\n",
        "        if i == n//2 -1 :\n",
        "                max1 = A[max_index]\n",
        "        if i == n//2 :\n",
        "                max2 = A[max_index]\n",
        "        freq[max_index] = 1\n",
        "    if n%2 == 0 :\n",
        "         median  = (max1+max2)/2\n",
        "    else:\n",
        "        median = max2\n",
        "    return median\n",
        "  \n",
        "    \n",
        "def opti_median(arr):\n",
        "    n = len(arr)\n",
        "    arr.sort()\n",
        "    if n%2 == 0 :\n",
        "        return (arr[n//2]+arr[n//2 -1])/2\n",
        "    else:\n",
        "        return arr[n//2]\n",
        "\n",
        "def time_1(A):\n",
        "    t_prog,t_opt,t_np = [],[],[]\n",
        "    number = 1000\n",
        "    for i in range(number):\n",
        "        start = time.time()\n",
        "        C = find_median(A)\n",
        "        end = time.time()\n",
        "        t_prog.append((end-start)*1000)\n",
        "        start = time.time()\n",
        "        c = opti_median(A)\n",
        "        end = time.time()\n",
        "        t_opt.append((end-start)*1000)\n",
        "        start = time.time()\n",
        "        c = np.median(A)\n",
        "        end = time.time()\n",
        "        t_np.append((end-start)*1000)\n",
        "    prog_t,prog_std = np.mean(np.array(t_prog)),np.std(np.array(t_prog))\n",
        "    opt_t,opt_std = np.mean(np.array(t_opt)),np.std(np.array(t_opt))\n",
        "    np_t,np_std = np.mean(np.array(t_np)),np.std(np.array(t_np))\n",
        "    return prog_t,prog_std, opt_t,opt_std,np_t,np_std\n"
      ]
    },
    {
      "cell_type": "code",
      "execution_count": 67,
      "id": "3c3ebae7",
      "metadata": {
        "colab": {
          "base_uri": "https://localhost:8080/"
        },
        "id": "3c3ebae7",
        "outputId": "faf42fc5-9651-4411-9f6d-8d7095a07b69"
      },
      "outputs": [
        {
          "output_type": "stream",
          "name": "stdout",
          "text": [
            "[82 58 84 20]\n",
            "The median of array A using brute force method is 70.0\n",
            "\n",
            "The median of array A using optimised method 70.0\n",
            "\n",
            "median of array A using numpy : 70.0\n",
            "\n"
          ]
        }
      ],
      "source": [
        "A = np.random.randint(0,100,(4))\n",
        "print(A)\n",
        "median = find_median(A)\n",
        "print(\"The median of array A using brute force method is \"+ str(median))\n",
        "print()\n",
        "median = opti_median(A)\n",
        "print(\"The median of array A using optimised method \"+ str(median))\n",
        "print()\n",
        "print(\"median of array A using numpy : \"+ str(np.median(A)))\n",
        "print()\n"
      ]
    },
    {
      "cell_type": "code",
      "execution_count": null,
      "id": "dcf2f81c",
      "metadata": {
        "colab": {
          "base_uri": "https://localhost:8080/"
        },
        "id": "dcf2f81c",
        "outputId": "d75b8f8d-0ba6-4b94-d702-a65c16789665"
      },
      "outputs": [
        {
          "output_type": "stream",
          "name": "stdout",
          "text": [
            "execution time of the find median program 2.162513494491577 ms 0.9624602835894503 ms\n",
            "execution time of the optimed program 0.014060735702514648 0.08804809113449681\n",
            "execution time of numpy.median  0.08085513114929199 ms 0.07562278559219969 ms\n"
          ]
        }
      ],
      "source": [
        "A = np.random.randint(0,100,(100))\n",
        "prog_t,prog_std, opt_t,opt_std,np_t,np_std  = time_1(A)\n",
        "print(\"execution time of the find median program\", prog_t,\"ms\",prog_std,\"ms\")\n",
        "print(\"execution time of the optimed program\",opt_t,opt_std)\n",
        "print(\"execution time of numpy.median \",np_t,\"ms\",np_std,\"ms\")\n"
      ]
    },
    {
      "cell_type": "markdown",
      "id": "837021f1",
      "metadata": {
        "id": "837021f1"
      },
      "source": [
        "# Q4\n"
      ]
    },
    {
      "cell_type": "markdown",
      "id": "8068066a",
      "metadata": {
        "id": "8068066a"
      },
      "source": [
        "$     Given\\: Function = x^{2}y + y^{3}sin(x)  \\\\ \\\\  Diff \\:wrt\\: x =  2xy + y^{3}cos(x) \\\\  \\\\ Diff\\:wrt\\: y =  x^{2} + 3y^{2}sin(x) $\n",
        "\n",
        "\n",
        "\n",
        "\n"
      ]
    },
    {
      "cell_type": "markdown",
      "source": [
        "# Q5\n"
      ],
      "metadata": {
        "id": "hsA0DXZ-xpLL"
      },
      "id": "hsA0DXZ-xpLL"
    },
    {
      "cell_type": "code",
      "execution_count": 47,
      "metadata": {
        "id": "aNU9pSLYS0no"
      },
      "outputs": [],
      "source": [
        "import jax\n",
        "import jax.numpy as jnp\n",
        "from jax import random\n",
        "import numpy as np\n"
      ],
      "id": "aNU9pSLYS0no"
    },
    {
      "cell_type": "code",
      "source": [
        "def f(x):\n",
        "  k,l = x[0],x[1]\n",
        "  return (k**2)*l+ (l**3)*jnp.sin(k)\n",
        "def diff_fxy(x):\n",
        "  k,l = x[0],x[1]\n",
        "  return 2*k*l + (l**3)*jnp.cos(k), (k**2) + 3*(l**2)*jnp.sin(k)"
      ],
      "metadata": {
        "id": "T5qn6sjYTCj8"
      },
      "execution_count": 42,
      "outputs": [],
      "id": "T5qn6sjYTCj8"
    },
    {
      "cell_type": "code",
      "source": [
        "gradf = jax.grad(f)"
      ],
      "metadata": {
        "id": "e7Dzh2AgTPrJ"
      },
      "execution_count": 43,
      "outputs": [],
      "id": "e7Dzh2AgTPrJ"
    },
    {
      "cell_type": "code",
      "source": [
        "x=np.random.uniform(1,2,(10,2))\n",
        "x=jnp.array(x)\n",
        "for i in range(10):\n",
        "\n",
        "  print(f\"gradient from jax {gradf(x[i])} |gradinet computed manullay {diff_fxy(x[i])[0]} {diff_fxy(x[i])[1]}  \")"
      ],
      "metadata": {
        "colab": {
          "base_uri": "https://localhost:8080/"
        },
        "id": "dv-nbieQTc5Z",
        "outputId": "0d57a8c5-048d-496a-d360-140cd324ed20"
      },
      "execution_count": 49,
      "outputs": [
        {
          "output_type": "stream",
          "name": "stdout",
          "text": [
            "gradient from jax [ 5.9552655 12.547184 ] |gradinet computed manullay 5.955265522003174 12.547183990478516  \n",
            "gradient from jax [3.9222474 7.421175 ] |gradinet computed manullay 3.9222474098205566 7.421175003051758  \n",
            "gradient from jax [3.0269434 5.0849476] |gradinet computed manullay 3.0269434452056885 5.08494758605957  \n",
            "gradient from jax [4.1361356 8.1027775] |gradinet computed manullay 4.136135578155518 8.102777481079102  \n",
            "gradient from jax [3.7942023 7.1030254] |gradinet computed manullay 3.7942023277282715 7.103025436401367  \n",
            "gradient from jax [3.754529  6.2119884] |gradinet computed manullay 3.7545289993286133 6.21198844909668  \n",
            "gradient from jax [3.34439  5.993205] |gradinet computed manullay 3.3443899154663086 5.9932050704956055  \n",
            "gradient from jax [4.123152 7.450735] |gradinet computed manullay 4.123151779174805 7.450735092163086  \n",
            "gradient from jax [ 4.7453547 10.969198 ] |gradinet computed manullay 4.745354652404785 10.969198226928711  \n",
            "gradient from jax [3.274139  5.4158983] |gradinet computed manullay 3.274138927459717 5.415898323059082  \n"
          ]
        }
      ],
      "id": "dv-nbieQTc5Z"
    },
    {
      "cell_type": "markdown",
      "id": "bc5cfdf2",
      "metadata": {
        "id": "bc5cfdf2"
      },
      "source": [
        "# Q6"
      ]
    },
    {
      "cell_type": "code",
      "execution_count": null,
      "id": "3251764c",
      "metadata": {
        "id": "3251764c",
        "outputId": "bc597ea6-433a-4be5-fa4d-22b0715e76ec"
      },
      "outputs": [
        {
          "name": "stdout",
          "output_type": "stream",
          "text": [
            "Given Function:  x**2*y + y**3*sin(x)\n",
            "diff wrt x:  2*x*y + y**3*cos(x)\n",
            "diff wrt y: x**2 + 3*y**2*sin(x)\n"
          ]
        }
      ],
      "source": [
        "import sympy as sp\n",
        "x = sp.Symbol('x')\n",
        "y = sp.Symbol('y')\n",
        "z = (x**2)*y + (y**3)*sp.sin(x)\n",
        "print(\"Given Function: \",z)\n",
        "print(\"diff wrt x: \",sp.diff(z,x))\n",
        "print(\"diff wrt y:\", sp.diff(z,y))"
      ]
    },
    {
      "cell_type": "markdown",
      "id": "64a54ff1",
      "metadata": {
        "id": "64a54ff1"
      },
      "source": [
        "# Q7\n"
      ]
    },
    {
      "cell_type": "code",
      "execution_count": null,
      "id": "bf8bb610",
      "metadata": {
        "id": "bf8bb610",
        "outputId": "dbff7687-47ec-4f36-a696-e77cf343a43f"
      },
      "outputs": [
        {
          "name": "stdout",
          "output_type": "stream",
          "text": [
            "{2022: {1: {1: {'Name': 'sunny', 'Marks': {'Maths': 100, 'English': 70}}, 2: {'Name': 'sandy', 'Marks': {'Maths': 1001, 'English': 70}}}, 2: {}}, 2023: {1: {}, 2: {}}}\n"
          ]
        }
      ],
      "source": [
        "            \n",
        "school_database = {}\n",
        "\n",
        "#data for year 2022\n",
        "year_2022 = {}\n",
        "b1_2022 = {}\n",
        "b1_s1_2022 = {\"Name\":\"sunny\" , \"Marks\": {\"Maths\": 100, \"English\": 70 } }\n",
        "b1_s2_2022 = {\"Name\":\"sandy\" , \"Marks\": {\"Maths\": 98, \"English\": 70 } }\n",
        "b1_2022[1] = b1_s1_2022\n",
        "b1_2022[2] = b1_s2_2022\n",
        "\n",
        "b2_2022 = {}\n",
        "\n",
        "year_2022[1] = b1_2022\n",
        "year_2022[2]  = b2_2022\n",
        "\n",
        "\n",
        "# data for year 2023\n",
        "year_2023 = {}\n",
        "b1_2023 = {}\n",
        "b2_2023 = {}\n",
        "#loading data batch wise in year 2023\n",
        "year_2023[1],year_2023[2] = b1_2023,b2_2023\n",
        "\n",
        "\n",
        "#loading yearly wise data in the school database\n",
        "\n",
        "school_database[2022] = year_2022\n",
        "school_database[2023] = year_2023\n",
        "\n",
        "\n",
        "print(school_database)"
      ]
    },
    {
      "cell_type": "markdown",
      "id": "a17e8c46",
      "metadata": {
        "id": "a17e8c46"
      },
      "source": [
        "# Q8\n"
      ]
    },
    {
      "cell_type": "code",
      "execution_count": 60,
      "id": "469671cd",
      "metadata": {
        "id": "469671cd"
      },
      "outputs": [],
      "source": [
        "\n",
        "\n",
        "        \n",
        "\n",
        "    \n",
        "class  college:\n",
        "    \n",
        "    def __init__(self, name):\n",
        "        self.college_name = name\n",
        "        self.years = []\n",
        "        \n",
        "    def add_student(self,year_,branch_,Name,Roll_no,subject,marks):\n",
        "       \n",
        "        year_obj = None\n",
        "        for i in self.years:\n",
        "            if i.academic_year == year_ :           \n",
        "                year_obj = i\n",
        "                break\n",
        "        \n",
        "        if year_obj == None : \n",
        "            year_obj = year(year_)\n",
        "            self.years.append(year_obj)\n",
        "        year_obj.add_student(branch_,Name,Roll_no,subject,marks)\n",
        "        \n",
        "    def display(self,year = None,Branch = None, Roll_no = None):\n",
        "            print(\"fetching the information\")\n",
        "            for i in self.years:\n",
        "                    if year == None or i.academic_year == year : \n",
        "                        print(i.academic_year)\n",
        "                        for j in i.branches : \n",
        "                            if Branch == None or Branch == j.branch_name : \n",
        "                              print(f\" {j.branch_name}\")\n",
        "                              for k in j.students :\n",
        "                                    if Roll_no ==  None or k.Roll_no == Roll_no : \n",
        "                                         print(f\"Name : {k.Name}, Roll_no : {k.Roll_no}, Branch : {j.branch_name}, Subjects: {k.subjects}, Marks : {k.marks}\")\n",
        "                                         print()  \n",
        "\n",
        "    \n",
        "        \n",
        "class year : \n",
        "    \n",
        "    def __init__(self,year):\n",
        "        self.academic_year = year\n",
        "        self.branches = []\n",
        "        self.branches_no = 0\n",
        "    def add_student(self,branch_,Name,Roll_no,subject,marks):\n",
        "        # print(\"updating the database of the Academic Year \"+str(self.academic_year))\n",
        "        branch_obj = None\n",
        "        for i in self.branches:\n",
        "            if i.branch_name == branch_ : \n",
        "                branch_obj = i\n",
        "                break\n",
        "        if branch_obj == None : \n",
        "            self.branches_no += 1\n",
        "            \n",
        "            # print(\"adding_new_database\")\n",
        "    \n",
        "            branch_obj = branch(branch_)\n",
        "            self.branches.append(branch_obj)\n",
        "        \n",
        "        branch_obj.add_student(Name,Roll_no,subject,marks)      \n",
        "            \n",
        "\n",
        "\n",
        "class branch:\n",
        "    \n",
        "    def __init__(self,name):\n",
        "        self.branch_name = name\n",
        "        self.students = []\n",
        "        self.students_no = 0\n",
        "    def add_student(self,Name,roll_no,subject,marks):\n",
        "        # print(\"updating the dabase of the branch \"+self.branch_name)\n",
        "        student_obj = None \n",
        "        for i in self.students : \n",
        "            if i.Roll_no == roll_no : \n",
        "                print(\"student_already exits in database\")\n",
        "                student_obj =  i\n",
        "                break\n",
        "        if student_obj == None : \n",
        "            \n",
        "            student_obj = student(Name,roll_no,subject,marks)\n",
        "            self.students_no += 1 \n",
        "            self.students.append(student_obj)\n",
        "            print(\"The student \" +Name+ \" succefully added to the database\")\n",
        "\n",
        "            \n",
        "            \n",
        "class student:\n",
        "    \n",
        "    def __init__(self,Name,Roll_no,subjects,marks):\n",
        "        self.Name = Name\n",
        "        self.Roll_no = Roll_no\n",
        "        self.marks = marks\n",
        "        self.subjects = subjects\n",
        "        \n",
        "        \n",
        "\n",
        "                \n",
        "        \n",
        "        \n",
        "\n"
      ]
    },
    {
      "cell_type": "code",
      "source": [
        "\n",
        "#to add data functin format : add_student(self,year_,branch_,Name,Roll_no,subject,marks) \n",
        "#fetch data function format : display(self,year = None,Branch = None, Roll_no = None)\n",
        "IItgn = college(\"IITGN\")\n",
        "IItgn.add_student(2022,\"Electrical\",\"Sunny\",2011000,[\"English\"],[90])\n",
        "print()\n",
        "IItgn.add_student(2022,\"Electrical\",\"siva\",2011001,[\"English\"],[90])\n",
        "print()\n",
        "IItgn.add_student(2022,\"Electrical\",\"manish\",2011002,[\"English\"],[90])\n",
        "IItgn.add_student(2022,\"Chemical\",\"absd\",20110062,[\"English\"],[90])\n",
        "\n",
        "IItgn.add_student(2023,\"CSE\",\"absds\",20110062,[\"English\"],[90])\n",
        "IItgn.add_student(2023,\"Electrical\",\"Sunny\",2011010,[\"English\"],[90])\n",
        "print()\n",
        "IItgn.add_student(2023,\"Electrical\",\"siva\",2011011,[\"English\"],[90])"
      ],
      "metadata": {
        "colab": {
          "base_uri": "https://localhost:8080/"
        },
        "id": "g2k7OL1bzCOS",
        "outputId": "0ce8caf4-7cc8-4677-b552-c07ceab69ef0"
      },
      "id": "g2k7OL1bzCOS",
      "execution_count": 65,
      "outputs": [
        {
          "output_type": "stream",
          "name": "stdout",
          "text": [
            "The student Sunny succefully added to the database\n",
            "\n",
            "The student siva succefully added to the database\n",
            "\n",
            "The student manish succefully added to the database\n",
            "The student absd succefully added to the database\n",
            "The student absds succefully added to the database\n",
            "The student Sunny succefully added to the database\n",
            "\n",
            "The student siva succefully added to the database\n"
          ]
        }
      ]
    },
    {
      "cell_type": "code",
      "source": [
        "\n",
        "IItgn.display()"
      ],
      "metadata": {
        "colab": {
          "base_uri": "https://localhost:8080/"
        },
        "id": "TnMousImzEva",
        "outputId": "42adf2ca-b145-4348-ced3-a05d490532fb"
      },
      "id": "TnMousImzEva",
      "execution_count": 66,
      "outputs": [
        {
          "output_type": "stream",
          "name": "stdout",
          "text": [
            "fetching the information\n",
            "2022\n",
            " Electrical\n",
            "Name : Sunny, Roll_no : 2011000, Branch : Electrical, Subjects: ['English'], Marks : [90]\n",
            "\n",
            "Name : siva, Roll_no : 2011001, Branch : Electrical, Subjects: ['English'], Marks : [90]\n",
            "\n",
            "Name : manish, Roll_no : 2011002, Branch : Electrical, Subjects: ['English'], Marks : [90]\n",
            "\n",
            " Chemical\n",
            "Name : absd, Roll_no : 20110062, Branch : Chemical, Subjects: ['English'], Marks : [90]\n",
            "\n",
            "2023\n",
            " CSE\n",
            "Name : absds, Roll_no : 20110062, Branch : CSE, Subjects: ['English'], Marks : [90]\n",
            "\n",
            " Electrical\n",
            "Name : Sunny, Roll_no : 2011010, Branch : Electrical, Subjects: ['English'], Marks : [90]\n",
            "\n",
            "Name : siva, Roll_no : 2011011, Branch : Electrical, Subjects: ['English'], Marks : [90]\n",
            "\n"
          ]
        }
      ]
    },
    {
      "cell_type": "markdown",
      "id": "8815e041",
      "metadata": {
        "id": "8815e041"
      },
      "source": [
        "# Q9"
      ]
    },
    {
      "cell_type": "code",
      "execution_count": null,
      "id": "f2489063",
      "metadata": {
        "id": "f2489063",
        "outputId": "1fa6343b-9325-4ccf-c2df-31457e7ff82a"
      },
      "outputs": [
        {
          "name": "stdout",
          "output_type": "stream",
          "text": [
            "Plot of y = x\n"
          ]
        },
        {
          "data": {
            "image/png": "[encoded data removed]",
            "text/plain": [
              "<Figure size 640x480 with 1 Axes>"
            ]
          },
          "metadata": {},
          "output_type": "display_data"
        }
      ],
      "source": [
        "x = np.arange(0.5,100.5,0.5)\n",
        "y = x\n",
        "print(\"Plot of y = x\")\n",
        "plt.plot(x,y)\n",
        "plt.xlabel(\"x\")\n",
        "plt.ylabel(\"y\")\n",
        "plt.show()\n"
      ]
    },
    {
      "cell_type": "code",
      "execution_count": null,
      "id": "b1e5639a",
      "metadata": {
        "scrolled": true,
        "id": "b1e5639a",
        "outputId": "f37ba24f-e8b1-44ae-eb18-8e7db96fc428"
      },
      "outputs": [
        {
          "name": "stdout",
          "output_type": "stream",
          "text": [
            "Plot of y = x^2\n"
          ]
        },
        {
          "data": {
            "image/png": "[encoded data removed]",
            "text/plain": [
              "<Figure size 640x480 with 1 Axes>"
            ]
          },
          "metadata": {},
          "output_type": "display_data"
        }
      ],
      "source": [
        "x = np.arange(0.5,100.5,0.5)\n",
        "y = np.square(x)\n",
        "print(\"Plot of y = x^2\")\n",
        "plt.plot(x,y)\n",
        "plt.xlabel(\"x\")\n",
        "plt.ylabel(\"y\")\n",
        "plt.show()"
      ]
    },
    {
      "cell_type": "code",
      "execution_count": null,
      "id": "a5f43c41",
      "metadata": {
        "scrolled": true,
        "id": "a5f43c41",
        "outputId": "294885dc-25eb-46f5-c61b-6384127a4dae"
      },
      "outputs": [
        {
          "name": "stdout",
          "output_type": "stream",
          "text": [
            "Plot of y = (x^3)/1000\n"
          ]
        },
        {
          "data": {
            "image/png": "[encoded data removed]",
            "text/plain": [
              "<Figure size 640x480 with 1 Axes>"
            ]
          },
          "metadata": {},
          "output_type": "display_data"
        }
      ],
      "source": [
        "x = np.arange(0.5,100.5,0.5)\n",
        "y = np.power(x,3)/1000\n",
        "print(\"Plot of y = (x^3)/1000\")\n",
        "plt.plot(x,y)\n",
        "plt.xlabel(\"x\")\n",
        "plt.ylabel(\"y\")\n",
        "plt.show()"
      ]
    },
    {
      "cell_type": "code",
      "execution_count": null,
      "id": "89269002",
      "metadata": {
        "scrolled": true,
        "id": "89269002",
        "outputId": "810740df-77c3-49b8-a435-92a5aa633ff7"
      },
      "outputs": [
        {
          "name": "stdout",
          "output_type": "stream",
          "text": [
            "Plot of y = sinx\n"
          ]
        },
        {
          "data": {
            "image/png": "[encoded data removed]",
            "text/plain": [
              "<Figure size 640x480 with 1 Axes>"
            ]
          },
          "metadata": {},
          "output_type": "display_data"
        }
      ],
      "source": [
        "x = np.arange(0.5,100.5,0.5)\n",
        "y = np.sin(x)\n",
        "print(\"Plot of y = sinx\")\n",
        "plt.plot(x,y)\n",
        "plt.xlabel(\"x\")\n",
        "plt.ylabel(\"y\")\n",
        "plt.show()"
      ]
    },
    {
      "cell_type": "code",
      "execution_count": null,
      "id": "1d11bbc9",
      "metadata": {
        "scrolled": true,
        "id": "1d11bbc9",
        "outputId": "7445b30e-95ab-40e9-e92d-286152368064"
      },
      "outputs": [
        {
          "name": "stdout",
          "output_type": "stream",
          "text": [
            "Plot of y = sinx/x\n"
          ]
        },
        {
          "data": {
            "image/png": "[encoded data removed]",
            "text/plain": [
              "<Figure size 640x480 with 1 Axes>"
            ]
          },
          "metadata": {},
          "output_type": "display_data"
        }
      ],
      "source": [
        "x = np.arange(0.5,100.5,0.5)\n",
        "y = np.sin(x)/x\n",
        "print(\"Plot of y = sinx/x\")\n",
        "plt.plot(x,y)\n",
        "plt.xlabel(\"x\")\n",
        "plt.ylabel(\"y\")\n",
        "plt.show()"
      ]
    },
    {
      "cell_type": "code",
      "execution_count": null,
      "id": "160f1fc3",
      "metadata": {
        "scrolled": true,
        "id": "160f1fc3",
        "outputId": "feb12e79-c6a8-4c6c-c8e6-b419e8e0d85c"
      },
      "outputs": [
        {
          "name": "stdout",
          "output_type": "stream",
          "text": [
            "Plot of y = log(x)\n"
          ]
        },
        {
          "data": {
            "image/png": "[encoded data removed]",
            "text/plain": [
              "<Figure size 640x480 with 1 Axes>"
            ]
          },
          "metadata": {},
          "output_type": "display_data"
        }
      ],
      "source": [
        "x = np.arange(0.5,100.5,0.5)\n",
        "y = np.log(x)\n",
        "print(\"Plot of y = log(x)\")\n",
        "plt.plot(x,y)\n",
        "plt.xlabel(\"x\")\n",
        "plt.ylabel(\"y\")\n",
        "plt.show()"
      ]
    },
    {
      "cell_type": "code",
      "execution_count": null,
      "id": "301572e4",
      "metadata": {
        "scrolled": true,
        "id": "301572e4",
        "outputId": "864d8dc3-11ed-4ed8-cbd1-fc50bb172fcf"
      },
      "outputs": [
        {
          "name": "stdout",
          "output_type": "stream",
          "text": [
            "Plot of y = e^x\n"
          ]
        },
        {
          "data": {
            "image/png": "[encoded data removed]",
            "text/plain": [
              "<Figure size 640x480 with 1 Axes>"
            ]
          },
          "metadata": {},
          "output_type": "display_data"
        }
      ],
      "source": [
        "x = np.arange(0.5,100.5,0.5)\n",
        "y = np.exp(x)\n",
        "\n",
        "print(\"Plot of y = e^x\")\n",
        "plt.plot(x,y)\n",
        "plt.xlabel(\"x\")\n",
        "plt.ylabel(\"y\")\n",
        "plt.show()"
      ]
    },
    {
      "cell_type": "markdown",
      "id": "d86f820a",
      "metadata": {
        "id": "d86f820a"
      },
      "source": [
        "# Q 10\n"
      ]
    },
    {
      "cell_type": "code",
      "execution_count": null,
      "id": "61ad4840",
      "metadata": {
        "scrolled": true,
        "id": "61ad4840",
        "outputId": "2c46a975-41ba-4f62-f532-f14d0d958096"
      },
      "outputs": [
        {
          "name": "stdout",
          "output_type": "stream",
          "text": [
            "std of each column\n",
            "a    0.349261\n",
            "b    0.323613\n",
            "c    0.284724\n",
            "d    0.254715\n",
            "e    0.296448\n",
            "dtype: float64\n",
            "column with high std is : a\n",
            "\n",
            "mean_of_each_column\n",
            "a    1.453358\n",
            "b    1.535023\n",
            "c    1.492404\n",
            "d    1.503779\n",
            "e    1.451792\n",
            "dtype: float64\n",
            "\n",
            "column with lowest mean is : d\n"
          ]
        }
      ],
      "source": [
        "data = np.random.uniform(1,2,(20,5))\n",
        "\n",
        "df = pd.DataFrame(data,columns = [\"a\",\"b\",\"c\",\"d\",\"e\"])\n",
        "\n",
        "std = df.std()\n",
        "print(\"std of each column\")\n",
        "print(std)\n",
        "max_ = 0\n",
        "for i in range(1,5):\n",
        "    if std[max_] <=  std[i] :\n",
        "        max_  = i\n",
        "print(\"column with high std is : \" + str(df.columns[max_]))\n",
        "\n",
        "print()\n",
        "print(\"mean_of_each_column\")\n",
        "mean  = df.mean()\n",
        "print(mean)\n",
        "min_ = 0 \n",
        "for  i in range(1,5):\n",
        "    if std[min_] >= std[i] : \n",
        "        min_ = i\n",
        "print()\n",
        "print(\"column with lowest mean is : \" + str(df.columns[min_]))\n",
        "    \n",
        "    \n"
      ]
    },
    {
      "cell_type": "markdown",
      "id": "54ee8e2f",
      "metadata": {
        "id": "54ee8e2f"
      },
      "source": [
        "# Q11"
      ]
    },
    {
      "cell_type": "code",
      "execution_count": null,
      "id": "8dc6b958",
      "metadata": {
        "id": "8dc6b958",
        "outputId": "b2173685-0cc3-44d0-8623-a462870e630b"
      },
      "outputs": [
        {
          "name": "stdout",
          "output_type": "stream",
          "text": [
            "15\n",
            "0.459965810196768 0.23096525624233144\n"
          ]
        },
        {
          "name": "stderr",
          "output_type": "stream",
          "text": [
            "C:\\Users\\ganga\\AppData\\Local\\Temp\\ipykernel_16336\\3009241821.py:2: FutureWarning: Dropping of nuisance columns in DataFrame reductions (with 'numeric_only=None') is deprecated; in a future version this will raise TypeError.  Select only valid columns before calling the reduction.\n",
            "  df[\"f\"]=df.sum(axis = 1)\n"
          ]
        },
        {
          "data": {
            "text/html": [
              "<div>\n",
              "<style scoped>\n",
              "    .dataframe tbody tr th:only-of-type {\n",
              "        vertical-align: middle;\n",
              "    }\n",
              "\n",
              "    .dataframe tbody tr th {\n",
              "        vertical-align: top;\n",
              "    }\n",
              "\n",
              "    .dataframe thead th {\n",
              "        text-align: right;\n",
              "    }\n",
              "</style>\n",
              "<table border=\"1\" class=\"dataframe\">\n",
              "  <thead>\n",
              "    <tr style=\"text-align: right;\">\n",
              "      <th></th>\n",
              "      <th>a</th>\n",
              "      <th>b</th>\n",
              "      <th>c</th>\n",
              "      <th>d</th>\n",
              "      <th>e</th>\n",
              "      <th>f</th>\n",
              "      <th>g</th>\n",
              "    </tr>\n",
              "  </thead>\n",
              "  <tbody>\n",
              "    <tr>\n",
              "      <th>0</th>\n",
              "      <td>1.917017</td>\n",
              "      <td>1.889783</td>\n",
              "      <td>1.491104</td>\n",
              "      <td>1.167101</td>\n",
              "      <td>1.720613</td>\n",
              "      <td>8.185618</td>\n",
              "      <td>GT8</td>\n",
              "    </tr>\n",
              "    <tr>\n",
              "      <th>1</th>\n",
              "      <td>1.096719</td>\n",
              "      <td>1.003336</td>\n",
              "      <td>1.907437</td>\n",
              "      <td>1.291434</td>\n",
              "      <td>1.468068</td>\n",
              "      <td>6.766994</td>\n",
              "      <td>LT8</td>\n",
              "    </tr>\n",
              "    <tr>\n",
              "      <th>2</th>\n",
              "      <td>1.839212</td>\n",
              "      <td>1.978620</td>\n",
              "      <td>1.038673</td>\n",
              "      <td>1.816090</td>\n",
              "      <td>1.414001</td>\n",
              "      <td>8.086596</td>\n",
              "      <td>GT8</td>\n",
              "    </tr>\n",
              "    <tr>\n",
              "      <th>3</th>\n",
              "      <td>1.030307</td>\n",
              "      <td>1.407408</td>\n",
              "      <td>1.094357</td>\n",
              "      <td>1.543317</td>\n",
              "      <td>1.532108</td>\n",
              "      <td>6.607497</td>\n",
              "      <td>LT8</td>\n",
              "    </tr>\n",
              "    <tr>\n",
              "      <th>4</th>\n",
              "      <td>1.885076</td>\n",
              "      <td>1.700219</td>\n",
              "      <td>1.625574</td>\n",
              "      <td>1.948672</td>\n",
              "      <td>1.041769</td>\n",
              "      <td>8.201310</td>\n",
              "      <td>GT8</td>\n",
              "    </tr>\n",
              "    <tr>\n",
              "      <th>5</th>\n",
              "      <td>1.151110</td>\n",
              "      <td>1.176775</td>\n",
              "      <td>1.416881</td>\n",
              "      <td>1.841847</td>\n",
              "      <td>1.821691</td>\n",
              "      <td>7.408304</td>\n",
              "      <td>LT8</td>\n",
              "    </tr>\n",
              "    <tr>\n",
              "      <th>6</th>\n",
              "      <td>1.525400</td>\n",
              "      <td>1.481976</td>\n",
              "      <td>1.857433</td>\n",
              "      <td>1.604206</td>\n",
              "      <td>1.326579</td>\n",
              "      <td>7.795595</td>\n",
              "      <td>LT8</td>\n",
              "    </tr>\n",
              "    <tr>\n",
              "      <th>7</th>\n",
              "      <td>1.344522</td>\n",
              "      <td>1.461361</td>\n",
              "      <td>1.379524</td>\n",
              "      <td>1.551999</td>\n",
              "      <td>1.765787</td>\n",
              "      <td>7.503192</td>\n",
              "      <td>LT8</td>\n",
              "    </tr>\n",
              "    <tr>\n",
              "      <th>8</th>\n",
              "      <td>1.235030</td>\n",
              "      <td>1.985971</td>\n",
              "      <td>1.912258</td>\n",
              "      <td>1.300118</td>\n",
              "      <td>1.845165</td>\n",
              "      <td>8.278543</td>\n",
              "      <td>GT8</td>\n",
              "    </tr>\n",
              "    <tr>\n",
              "      <th>9</th>\n",
              "      <td>1.991955</td>\n",
              "      <td>1.171181</td>\n",
              "      <td>1.378770</td>\n",
              "      <td>1.359153</td>\n",
              "      <td>1.047787</td>\n",
              "      <td>6.948845</td>\n",
              "      <td>LT8</td>\n",
              "    </tr>\n",
              "    <tr>\n",
              "      <th>10</th>\n",
              "      <td>1.591947</td>\n",
              "      <td>1.904441</td>\n",
              "      <td>1.499719</td>\n",
              "      <td>1.744700</td>\n",
              "      <td>1.940561</td>\n",
              "      <td>8.681368</td>\n",
              "      <td>GT8</td>\n",
              "    </tr>\n",
              "    <tr>\n",
              "      <th>11</th>\n",
              "      <td>1.148303</td>\n",
              "      <td>1.995638</td>\n",
              "      <td>1.120392</td>\n",
              "      <td>1.519067</td>\n",
              "      <td>1.411965</td>\n",
              "      <td>7.195365</td>\n",
              "      <td>LT8</td>\n",
              "    </tr>\n",
              "    <tr>\n",
              "      <th>12</th>\n",
              "      <td>1.837781</td>\n",
              "      <td>1.657338</td>\n",
              "      <td>1.120121</td>\n",
              "      <td>1.330477</td>\n",
              "      <td>1.268206</td>\n",
              "      <td>7.213923</td>\n",
              "      <td>LT8</td>\n",
              "    </tr>\n",
              "    <tr>\n",
              "      <th>13</th>\n",
              "      <td>1.345930</td>\n",
              "      <td>1.329619</td>\n",
              "      <td>1.756493</td>\n",
              "      <td>1.706512</td>\n",
              "      <td>1.073934</td>\n",
              "      <td>7.212489</td>\n",
              "      <td>LT8</td>\n",
              "    </tr>\n",
              "    <tr>\n",
              "      <th>14</th>\n",
              "      <td>1.801364</td>\n",
              "      <td>1.194328</td>\n",
              "      <td>1.841971</td>\n",
              "      <td>1.256508</td>\n",
              "      <td>1.633383</td>\n",
              "      <td>7.727553</td>\n",
              "      <td>LT8</td>\n",
              "    </tr>\n",
              "    <tr>\n",
              "      <th>15</th>\n",
              "      <td>1.028200</td>\n",
              "      <td>1.133487</td>\n",
              "      <td>1.331962</td>\n",
              "      <td>1.425705</td>\n",
              "      <td>1.204677</td>\n",
              "      <td>6.124031</td>\n",
              "      <td>LT8</td>\n",
              "    </tr>\n",
              "    <tr>\n",
              "      <th>16</th>\n",
              "      <td>1.014844</td>\n",
              "      <td>1.518965</td>\n",
              "      <td>1.202771</td>\n",
              "      <td>1.757245</td>\n",
              "      <td>1.141643</td>\n",
              "      <td>6.635468</td>\n",
              "      <td>LT8</td>\n",
              "    </tr>\n",
              "    <tr>\n",
              "      <th>17</th>\n",
              "      <td>1.308495</td>\n",
              "      <td>1.893863</td>\n",
              "      <td>1.546630</td>\n",
              "      <td>1.035572</td>\n",
              "      <td>1.615066</td>\n",
              "      <td>7.399626</td>\n",
              "      <td>LT8</td>\n",
              "    </tr>\n",
              "    <tr>\n",
              "      <th>18</th>\n",
              "      <td>1.150724</td>\n",
              "      <td>1.298027</td>\n",
              "      <td>1.714707</td>\n",
              "      <td>1.660811</td>\n",
              "      <td>1.704221</td>\n",
              "      <td>7.528490</td>\n",
              "      <td>LT8</td>\n",
              "    </tr>\n",
              "    <tr>\n",
              "      <th>19</th>\n",
              "      <td>1.823234</td>\n",
              "      <td>1.518118</td>\n",
              "      <td>1.611303</td>\n",
              "      <td>1.215036</td>\n",
              "      <td>1.058615</td>\n",
              "      <td>7.226308</td>\n",
              "      <td>LT8</td>\n",
              "    </tr>\n",
              "  </tbody>\n",
              "</table>\n",
              "</div>"
            ],
            "text/plain": [
              "           a         b         c         d         e         f    g\n",
              "0   1.917017  1.889783  1.491104  1.167101  1.720613  8.185618  GT8\n",
              "1   1.096719  1.003336  1.907437  1.291434  1.468068  6.766994  LT8\n",
              "2   1.839212  1.978620  1.038673  1.816090  1.414001  8.086596  GT8\n",
              "3   1.030307  1.407408  1.094357  1.543317  1.532108  6.607497  LT8\n",
              "4   1.885076  1.700219  1.625574  1.948672  1.041769  8.201310  GT8\n",
              "5   1.151110  1.176775  1.416881  1.841847  1.821691  7.408304  LT8\n",
              "6   1.525400  1.481976  1.857433  1.604206  1.326579  7.795595  LT8\n",
              "7   1.344522  1.461361  1.379524  1.551999  1.765787  7.503192  LT8\n",
              "8   1.235030  1.985971  1.912258  1.300118  1.845165  8.278543  GT8\n",
              "9   1.991955  1.171181  1.378770  1.359153  1.047787  6.948845  LT8\n",
              "10  1.591947  1.904441  1.499719  1.744700  1.940561  8.681368  GT8\n",
              "11  1.148303  1.995638  1.120392  1.519067  1.411965  7.195365  LT8\n",
              "12  1.837781  1.657338  1.120121  1.330477  1.268206  7.213923  LT8\n",
              "13  1.345930  1.329619  1.756493  1.706512  1.073934  7.212489  LT8\n",
              "14  1.801364  1.194328  1.841971  1.256508  1.633383  7.727553  LT8\n",
              "15  1.028200  1.133487  1.331962  1.425705  1.204677  6.124031  LT8\n",
              "16  1.014844  1.518965  1.202771  1.757245  1.141643  6.635468  LT8\n",
              "17  1.308495  1.893863  1.546630  1.035572  1.615066  7.399626  LT8\n",
              "18  1.150724  1.298027  1.714707  1.660811  1.704221  7.528490  LT8\n",
              "19  1.823234  1.518118  1.611303  1.215036  1.058615  7.226308  LT8"
            ]
          },
          "execution_count": 36,
          "metadata": {},
          "output_type": "execute_result"
        }
      ],
      "source": [
        "df[\"f\"] = 0\n",
        "df[\"f\"]=df.sum(axis = 1)\n",
        "\n",
        "df[\"g\"] = df[\"f\"].apply(lambda row: \"LT8\" if row < 8  else \"GT8\")\n",
        "\n",
        "print(len(df[df[\"g\"] == \"LT8\"]))\n",
        "\n",
        "print(df[\"f\"][df[\"g\"] == \"LT8\"].std(),df[\"f\"][df[\"g\"] == \"GT8\"].std())\n",
        "\n",
        "df\n"
      ]
    },
    {
      "cell_type": "markdown",
      "id": "234933e0",
      "metadata": {
        "id": "234933e0"
      },
      "source": [
        "# Q12"
      ]
    },
    {
      "cell_type": "code",
      "execution_count": null,
      "id": "61cb8145",
      "metadata": {
        "id": "61cb8145",
        "outputId": "43762102-8268-4dab-96a1-ccbf6e4d9cc9"
      },
      "outputs": [
        {
          "name": "stdout",
          "output_type": "stream",
          "text": [
            "[8. 5. 6.]\n",
            "\n",
            "[8 5 6]\n",
            "\n",
            "[[11.  3.]\n",
            " [ 4.  1.]\n",
            " [ 1.  7.]]\n",
            "\n",
            "[[11  3]\n",
            " [ 4  1]\n",
            " [ 1  7]]\n",
            "\n"
          ]
        }
      ],
      "source": [
        "\n",
        "A = np.array([5,2,3])\n",
        "B = 3 \n",
        "C = np.zeros(A.shape)\n",
        "for i in range(3):\n",
        "    C[i] = A[i] +3\n",
        "\n",
        "print(C)\n",
        "print()\n",
        "C = A+B  #broadcasting happens here\n",
        "print(C)\n",
        "print()\n",
        "\n",
        "A = np.array([[10,2],[3,0],[0,6]])\n",
        "B = np.array([1,1])\n",
        "C = np.zeros(A.shape)\n",
        "for i in range(3):\n",
        "    for j in range(2):\n",
        "        C[i][j] =  A[i][j] + B[j]\n",
        "print(C)\n",
        "print()\n",
        "C = A+B\n",
        "\n",
        "print(C)\n",
        "print()\n",
        "\n"
      ]
    },
    {
      "cell_type": "markdown",
      "source": [
        "From the above example of Addition of two Arrays A and B of dimensions (3,2) and (1,2) . both the arrays have different dimensions. The addition operation of both the arrays will be performed by stretching(intutive) the array B to the dimension (3,2). The is nothing but the brodcasting."
      ],
      "metadata": {
        "id": "p8Lp3KpPputx"
      },
      "id": "p8Lp3KpPputx"
    },
    {
      "cell_type": "markdown",
      "id": "187ea67f",
      "metadata": {
        "id": "187ea67f"
      },
      "source": [
        "# Q13"
      ]
    },
    {
      "cell_type": "code",
      "execution_count": null,
      "id": "f55b13ad",
      "metadata": {
        "id": "f55b13ad"
      },
      "outputs": [],
      "source": [
        "def min_ind(arr):\n",
        "    arr = arr.flatten()\n",
        "    min_index = 0\n",
        "    n = len(arr)\n",
        "    for i in range(n):\n",
        "        if arr[i]  < arr[min_index] : \n",
        "            min_index = i\n",
        "    return min_index\n",
        "\n",
        "A = np.array([[10,2],[3,0],[0,6]])\n",
        "print(\"Argim computed from above program \" + str(min_ind(A)))\n",
        "print(\"Argmin using numpy: \" + str(np.argmin(A)))\n",
        "    "
      ]
    }
  ],
  "metadata": {
    "kernelspec": {
      "display_name": "Python 3 (ipykernel)",
      "language": "python",
      "name": "python3"
    },
    "language_info": {
      "codemirror_mode": {
        "name": "ipython",
        "version": 3
      },
      "file_extension": ".py",
      "mimetype": "text/x-python",
      "name": "python",
      "nbconvert_exporter": "python",
      "pygments_lexer": "ipython3",
      "version": "3.10.5"
    },
    "colab": {
      "provenance": []
    }
  },
  "nbformat": 4,
  "nbformat_minor": 5
}